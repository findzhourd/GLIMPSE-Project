{
 "cells": [
  {
   "cell_type": "code",
   "execution_count": null,
   "metadata": {},
   "outputs": [],
   "source": [
    "from astropy.table import Table\n",
    "import numpy\n",
    "import matplotlib.pyplot as plt\n",
    "import matplotlib.lines as mlines\n",
    "import matplotlib.transforms as mtransform"
   ]
  },
  {
   "cell_type": "code",
   "execution_count": null,
   "metadata": {},
   "outputs": [],
   "source": [
    "data = Table.read('data_PAH&AGN&shock_removed.tbl',format='ipac')\n",
    "PAH1 = Table.read('PAH_1.tbl',format='ipac')\n",
    "PAH2 = Table.read('PAH_2.tbl',format='ipac')\n",
    "AGN = Table.read('AGN.tbl',format='ipac')\n",
    "shock = Table.read('shock.tbl',format='ipac')"
   ]
  },
  {
   "cell_type": "code",
   "execution_count": null,
   "metadata": {},
   "outputs": [],
   "source": [
    "sigma1 = numpy.sqrt(numpy.square(data['d4_5m'])+numpy.square(data['d5_8m']))\n",
    "sigma2 = numpy.sqrt(numpy.square(data['d3_6m'])+numpy.square(data['d4_5m']))\n",
    "\n",
    "x = data['mag4_5']-data['mag5_8']\n",
    "y = data['mag3_6']-data['mag4_5']\n",
    "PAHcon_index = []\n",
    "\n",
    "for i in range(0,len(data)):\n",
    "    if (y[i] - sigma2[i] <= (x[i] + sigma1[i] - 0.7)*1.4 + 0.15):\n",
    "        if y[i] - sigma2[i] <= 1.65:\n",
    "            if data['d3_6m'][i]<0.2:\n",
    "                if data['d4_5m'][i]<0.2:\n",
    "                    if data['d5_8m'][i]<0.2:\n",
    "                        if data['d8_0m'][i]<0.2:\n",
    "                            PAHcon_index.append(i)"
   ]
  },
  {
   "cell_type": "code",
   "execution_count": null,
   "metadata": {},
   "outputs": [],
   "source": [
    "data[PAHcon_index].write('PAHcon.tbl',format='ipac')"
   ]
  },
  {
   "cell_type": "code",
   "execution_count": null,
   "metadata": {},
   "outputs": [],
   "source": [
    "plt.figure(figsize=(10,10))\n",
    "\n",
    "plt.scatter(x,y,marker = '.',)\n",
    "plt.scatter(x[PAHcon_index],y[PAHcon_index],color='b')\n",
    "\n",
    "plt.scatter(PAH1['mag4_5']-PAH1['mag5_8'],PAH1['mag3_6']-PAH1['mag4_5'],color='black',marker='.')\n",
    "plt.scatter(PAH2['mag4_5']-PAH2['mag5_8'],PAH2['mag3_6']-PAH2['mag4_5'],color='black',marker='.')\n",
    "plt.scatter(AGN['mag4_5']-AGN['mag5_8'],AGN['mag3_6']-AGN['mag4_5'],color='black',marker='.')\n",
    "plt.scatter(shock['mag4_5']-shock['mag5_8'],shock['mag3_6']-shock['mag4_5'],color='orange',marker='o')\n",
    "plt.plot([-4.5, 0.415], [1.05, 1.05], color = 'black') \n",
    "plt.plot([0.85,0.85],[4,2] , color = 'black') #[5.8] − [8.0] > 1\n",
    "plt.plot([0.415,0.85],[1.05,2], color = 'black')\n",
    "\n",
    "plt.plot([1.77,6],[1.65,1.65], color = 'black')\n",
    "plt.plot([-0.3,1.77],[-1.25,1.65], color = 'black')\n",
    "plt.xlabel('[4.5]-[5.8]')\n",
    "plt.ylabel('[3.6]-[4.5]')\n",
    "plt.xlim(-0.8, 2.8)\n",
    "plt.ylim(-1.05,3.4)\n",
    "plt.title('shocked emission + PAH-contaminated')\n",
    "\n",
    "data.remove_rows(PAHcon_index)\n",
    "data.write('data_PAH&ANG&shock&PAHcon_removed.tbl',format='ipac')"
   ]
  }
 ],
 "metadata": {
  "kernelspec": {
   "display_name": "Python 3",
   "language": "python",
   "name": "python3"
  },
  "language_info": {
   "codemirror_mode": {
    "name": "ipython",
    "version": 3
   },
   "file_extension": ".py",
   "mimetype": "text/x-python",
   "name": "python",
   "nbconvert_exporter": "python",
   "pygments_lexer": "ipython3",
   "version": "3.6.4"
  }
 },
 "nbformat": 4,
 "nbformat_minor": 2
}
