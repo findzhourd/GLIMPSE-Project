{
 "cells": [
  {
   "cell_type": "code",
   "execution_count": null,
   "metadata": {},
   "outputs": [],
   "source": [
    "from astropy.table import Table\n",
    "import numpy as np\n",
    "import matplotlib.pyplot as plt\n",
    "import matplotlib.lines as mlines\n",
    "import matplotlib.transforms as mtransforms"
   ]
  },
  {
   "cell_type": "code",
   "execution_count": null,
   "metadata": {},
   "outputs": [],
   "source": [
    "data = Table.read('data.tbl',format='ipac')\n",
    "print(data.colnames)\n",
    "print (len(data))"
   ]
  },
  {
   "cell_type": "code",
   "execution_count": null,
   "metadata": {},
   "outputs": [],
   "source": [
    "band4_5 = data['mag4_5']\n",
    "band5_8 = data['mag5_8']\n",
    "band3_6 = data['mag3_6']\n",
    "band8_0 = data['mag8_0']"
   ]
  },
  {
   "cell_type": "code",
   "execution_count": null,
   "metadata": {},
   "outputs": [],
   "source": [
    "a = band4_5-band8_0\n",
    "b = band3_6-band5_8\n",
    "PAH_index_1 = []\n",
    "for i in range(0,len(data)):\n",
    "    if b[i] < 1.5:\n",
    "        if a[i]>1:\n",
    "            if b[i]<(1.5/2)*(a[i]-1):\n",
    "                if band4_5[i] > 11.5:\n",
    "                    if data['d3_6m'][i]<0.2:\n",
    "                        if data['d4_5m'][i]<0.2:\n",
    "                            if data['d5_8m'][i]<0.2:\n",
    "                                if data['d8_0m'][i]<0.2:\n",
    "                                    PAH_index_1.append(i)"
   ]
  }
 ],
 "metadata": {
  "kernelspec": {
   "display_name": "Python 3",
   "language": "python",
   "name": "python3"
  },
  "language_info": {
   "codemirror_mode": {
    "name": "ipython",
    "version": 3
   },
   "file_extension": ".py",
   "mimetype": "text/x-python",
   "name": "python",
   "nbconvert_exporter": "python",
   "pygments_lexer": "ipython3",
   "version": "3.6.4"
  }
 },
 "nbformat": 4,
 "nbformat_minor": 2
}
