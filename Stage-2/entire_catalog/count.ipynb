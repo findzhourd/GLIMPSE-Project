{
 "cells": [
  {
   "cell_type": "code",
   "execution_count": 2,
   "metadata": {},
   "outputs": [],
   "source": [
    "from astropy.table import Table\n",
    "import numpy as np\n",
    "import matplotlib.pyplot as plt\n",
    "import matplotlib.lines as mlines\n",
    "import matplotlib.transforms as mtransforms\n",
    "import pandas as pd"
   ]
  },
  {
   "cell_type": "code",
   "execution_count": 3,
   "metadata": {},
   "outputs": [],
   "source": [
    "PAH1 = Table.read('PAH_1.fits')\n",
    "PAH2 = Table.read('PAH_2.fits')\n",
    "AGN = Table.read('AGN.fits')\n",
    "shock = Table.read('shock.fits')\n",
    "PAHcon = Table.read('PAHcon.fits')\n",
    "YSO = Table.read('YSO.fits')\n",
    "YSOII = Table.read('YSOII.fits')"
   ]
  },
  {
   "cell_type": "code",
   "execution_count": 6,
   "metadata": {},
   "outputs": [
    {
     "name": "stdout",
     "output_type": "stream",
     "text": [
      "PAH1= 1957\n",
      "PAH2= 629\n",
      "AGN= 336\n",
      "shock= 1832\n",
      "YSOI= 20800\n",
      "PAHcon= 470600\n",
      "YSOII 41371\n"
     ]
    }
   ],
   "source": [
    "print('PAH1=',len(PAH1))\n",
    "print('PAH2=',len(PAH2))\n",
    "print('AGN=',len(AGN))\n",
    "print('shock=',len(shock))\n",
    "print('YSOI=',len(YSO))\n",
    "print('PAHcon=',len(PAHcon))\n",
    "print('YSOII',len(YSOII))"
   ]
  },
  {
   "cell_type": "code",
   "execution_count": null,
   "metadata": {},
   "outputs": [],
   "source": []
  }
 ],
 "metadata": {
  "kernelspec": {
   "display_name": "Python 3",
   "language": "python",
   "name": "python3"
  },
  "language_info": {
   "codemirror_mode": {
    "name": "ipython",
    "version": 3
   },
   "file_extension": ".py",
   "mimetype": "text/x-python",
   "name": "python",
   "nbconvert_exporter": "python",
   "pygments_lexer": "ipython3",
   "version": "3.6.4"
  }
 },
 "nbformat": 4,
 "nbformat_minor": 2
}
