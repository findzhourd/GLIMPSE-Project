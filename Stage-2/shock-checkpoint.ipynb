{
 "cells": [
  {
   "cell_type": "code",
   "execution_count": null,
   "metadata": {},
   "outputs": [],
   "source": [
    "from astropy.table import Table\n",
    "import numpy\n",
    "import matplotlib.pyplot as plt\n",
    "import matplotlib.lines as mlines\n",
    "import matplotlib.transforms as mtransform"
   ]
  },
  {
   "cell_type": "code",
   "execution_count": null,
   "metadata": {},
   "outputs": [],
   "source": [
    "data = Table.read('data_PAH&AGN_removed.tbl',format='ipac')\n",
    "PAH1 = Table.read('PAH_1.fit',format='ipac')\n",
    "PAH2 = Table.read('PAH_2.fit',format='ipac')\n",
    "AGN = Table.read('AGN.fit',format='ipac')"
   ]
  },
  {
   "cell_type": "code",
   "execution_count": null,
   "metadata": {},
   "outputs": [],
   "source": [
    "x = data['mag4_5']-data['mag5_8']\n",
    "y = data['mag3_6']-data['mag4_5']\n",
    "\n",
    "shock_index = []\n",
    "for i in range(0,len(data)):\n",
    "    if y[i]>((1.2/0.55)*(x[i]-0.3)+0.8):\n",
    "        if x[i]<=0.95:\n",
    "            if y[i]>1.05:\n",
    "                if data['d3_6m'][i]<0.2:\n",
    "                    if data['d4_5m'][i]<0.2:\n",
    "                        if data['d5_8m'][i]<0.2:\n",
    "                            if data['d8_0m'][i]<0.2:\n",
    "                                shock_index.append(i)"
   ]
  },
  {
   "cell_type": "code",
   "execution_count": null,
   "metadata": {},
   "outputs": [],
   "source": [
    "shock = data[shock_index]\n",
    "shock.write('shock.tbl',format='ipac')"
   ]
  },
  {
   "cell_type": "code",
   "execution_count": null,
   "metadata": {},
   "outputs": [],
   "source": [
    "plt.figure(figsize=(10,10))\n",
    "plt.scatter(x,y)\n",
    "plt.scatter(x[shock_index],y[shock_index], color = 'b')\n",
    "plt.scatter(PAH1['mag4_5']-PAH1['mag5_8'],PAH1['mag3_6']-PAH1['mag4_5'],color='black',marker='.')\n",
    "plt.scatter(PAH2['mag4_5']-PAH2['mag8_0'],PAH2['mag3_6']-PAH2['mag4_5'],color='black',marker='.')\n",
    "plt.scatter(AGN['mag4_5']-AGN['mag5_8'],AGN['mag3_6']-AGN['mag4_5'],color='black',marker='.')\n",
    "\n",
    "plt.xlabel('[4.5]-[5.8]')\n",
    "plt.ylabel('[3.6]-[4.5]')\n",
    "plt.xlim(-0.8, 2.8)\n",
    "plt.ylim(-1,3.4)\n",
    "plt.title('shock')"
   ]
  },
  {
   "cell_type": "code",
   "execution_count": null,
   "metadata": {},
   "outputs": [],
   "source": [
    "data.remove_rows(shock_index)\n",
    "data.write('data_PAH&AGN&shock_removed.tbl',format='ipac')"
   ]
  }
 ],
 "metadata": {
  "kernelspec": {
   "display_name": "Python 3",
   "language": "python",
   "name": "python3"
  },
  "language_info": {
   "codemirror_mode": {
    "name": "ipython",
    "version": 3
   },
   "file_extension": ".py",
   "mimetype": "text/x-python",
   "name": "python",
   "nbconvert_exporter": "python",
   "pygments_lexer": "ipython3",
   "version": "3.6.4"
  }
 },
 "nbformat": 4,
 "nbformat_minor": 2
}
